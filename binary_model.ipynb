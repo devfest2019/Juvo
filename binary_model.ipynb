{
 "cells": [
  {
   "cell_type": "markdown",
   "metadata": {},
   "source": [
    "## Import Libraries"
   ]
  },
  {
   "cell_type": "code",
   "execution_count": 244,
   "metadata": {},
   "outputs": [],
   "source": [
    "import numpy as np\n",
    "import pandas as pd\n",
    "import matplotlib.pyplot as plt\n",
    "from sklearn.model_selection import train_test_split\n",
    "from sklearn.feature_extraction.text import CountVectorizer\n",
    "from keras.models import Sequential\n",
    "from keras.layers import Dense, Dropout\n",
    "from keras.optimizers import SGD\n",
    "from keras.callbacks import EarlyStopping\n",
    "from keras.wrappers.scikit_learn import KerasClassifier\n",
    "from sklearn.model_selection import StratifiedKFold\n",
    "from sklearn.model_selection import cross_val_score"
   ]
  },
  {
   "cell_type": "markdown",
   "metadata": {},
   "source": [
    "## Load Datasets"
   ]
  },
  {
   "cell_type": "code",
   "execution_count": 222,
   "metadata": {},
   "outputs": [],
   "source": [
    "# load dataset\n",
    "data_set1 = pd.read_csv('dataset/credit_train.csv', header=0)\n",
    "data_set2 = pd.read_csv('dataset/credit_test.csv', header=0)"
   ]
  },
  {
   "cell_type": "code",
   "execution_count": 223,
   "metadata": {},
   "outputs": [],
   "source": [
    "data_set1 = data_set1.iloc[:100000]\n",
    "data_set2 = data_set2.iloc[:10000]"
   ]
  },
  {
   "cell_type": "code",
   "execution_count": 224,
   "metadata": {},
   "outputs": [],
   "source": [
    "df = data_set1.append(data_set2, ignore_index=True)"
   ]
  },
  {
   "cell_type": "markdown",
   "metadata": {
    "collapsed": true
   },
   "source": [
    "## Preprocessing - Drop Columns"
   ]
  },
  {
   "cell_type": "code",
   "execution_count": 225,
   "metadata": {},
   "outputs": [],
   "source": [
    "# Drop irrelevant columns\n",
    "drop_cols = ['Loan ID', 'Customer ID', 'Purpose','Monthly Debt',\n",
    "             'Number of Open Accounts','Maximum Open Credit','Bankruptcies','Tax Liens']"
   ]
  },
  {
   "cell_type": "code",
   "execution_count": 226,
   "metadata": {},
   "outputs": [],
   "source": [
    "df.drop(drop_cols, axis=1, inplace=True)"
   ]
  },
  {
   "cell_type": "markdown",
   "metadata": {},
   "source": [
    "## Preprocessing - Drop NaN"
   ]
  },
  {
   "cell_type": "code",
   "execution_count": 227,
   "metadata": {},
   "outputs": [
    {
     "data": {
      "text/plain": [
       "Annual Income                   0\n",
       "Credit Score                    0\n",
       "Current Credit Balance          0\n",
       "Current Loan Amount             0\n",
       "Home Ownership                  0\n",
       "Loan Status                     0\n",
       "Months since last delinquent    0\n",
       "Number of Credit Problems       0\n",
       "Term                            0\n",
       "Years in current job            0\n",
       "Years of Credit History         0\n",
       "dtype: int64"
      ]
     },
     "execution_count": 227,
     "metadata": {},
     "output_type": "execute_result"
    }
   ],
   "source": [
    "df = df.dropna()\n",
    "df.isnull().sum()"
   ]
  },
  {
   "cell_type": "markdown",
   "metadata": {
    "collapsed": true
   },
   "source": [
    "# Turning Credit Score into Binary"
   ]
  },
  {
   "cell_type": "code",
   "execution_count": 228,
   "metadata": {
    "scrolled": true
   },
   "outputs": [
    {
     "data": {
      "text/plain": [
       "2     741.0\n",
       "6     730.0\n",
       "8     678.0\n",
       "10    728.0\n",
       "12    740.0\n",
       "Name: Credit Score, dtype: float64"
      ]
     },
     "execution_count": 228,
     "metadata": {},
     "output_type": "execute_result"
    }
   ],
   "source": [
    "df['Credit Score'].head()"
   ]
  },
  {
   "cell_type": "code",
   "execution_count": 229,
   "metadata": {},
   "outputs": [
    {
     "data": {
      "text/html": [
       "<div>\n",
       "<style scoped>\n",
       "    .dataframe tbody tr th:only-of-type {\n",
       "        vertical-align: middle;\n",
       "    }\n",
       "\n",
       "    .dataframe tbody tr th {\n",
       "        vertical-align: top;\n",
       "    }\n",
       "\n",
       "    .dataframe thead th {\n",
       "        text-align: right;\n",
       "    }\n",
       "</style>\n",
       "<table border=\"1\" class=\"dataframe\">\n",
       "  <thead>\n",
       "    <tr style=\"text-align: right;\">\n",
       "      <th></th>\n",
       "      <th>Annual Income</th>\n",
       "      <th>Credit Score</th>\n",
       "      <th>Current Credit Balance</th>\n",
       "      <th>Current Loan Amount</th>\n",
       "      <th>Home Ownership</th>\n",
       "      <th>Loan Status</th>\n",
       "      <th>Months since last delinquent</th>\n",
       "      <th>Number of Credit Problems</th>\n",
       "      <th>Term</th>\n",
       "      <th>Years in current job</th>\n",
       "      <th>Years of Credit History</th>\n",
       "      <th>Accept</th>\n",
       "    </tr>\n",
       "  </thead>\n",
       "  <tbody>\n",
       "    <tr>\n",
       "      <th>2</th>\n",
       "      <td>2231892.0</td>\n",
       "      <td>741.0</td>\n",
       "      <td>297996.0</td>\n",
       "      <td>99999999.0</td>\n",
       "      <td>Own Home</td>\n",
       "      <td>Fully Paid</td>\n",
       "      <td>29.0</td>\n",
       "      <td>1.0</td>\n",
       "      <td>Short Term</td>\n",
       "      <td>8 years</td>\n",
       "      <td>14.9</td>\n",
       "      <td>True</td>\n",
       "    </tr>\n",
       "    <tr>\n",
       "      <th>6</th>\n",
       "      <td>1184194.0</td>\n",
       "      <td>730.0</td>\n",
       "      <td>122170.0</td>\n",
       "      <td>217646.0</td>\n",
       "      <td>Home Mortgage</td>\n",
       "      <td>Fully Paid</td>\n",
       "      <td>10.0</td>\n",
       "      <td>1.0</td>\n",
       "      <td>Short Term</td>\n",
       "      <td>&lt; 1 year</td>\n",
       "      <td>19.6</td>\n",
       "      <td>True</td>\n",
       "    </tr>\n",
       "    <tr>\n",
       "      <th>8</th>\n",
       "      <td>2559110.0</td>\n",
       "      <td>678.0</td>\n",
       "      <td>437171.0</td>\n",
       "      <td>548746.0</td>\n",
       "      <td>Rent</td>\n",
       "      <td>Fully Paid</td>\n",
       "      <td>33.0</td>\n",
       "      <td>0.0</td>\n",
       "      <td>Short Term</td>\n",
       "      <td>2 years</td>\n",
       "      <td>22.6</td>\n",
       "      <td>False</td>\n",
       "    </tr>\n",
       "    <tr>\n",
       "      <th>10</th>\n",
       "      <td>714628.0</td>\n",
       "      <td>728.0</td>\n",
       "      <td>203965.0</td>\n",
       "      <td>99999999.0</td>\n",
       "      <td>Rent</td>\n",
       "      <td>Fully Paid</td>\n",
       "      <td>76.0</td>\n",
       "      <td>0.0</td>\n",
       "      <td>Short Term</td>\n",
       "      <td>3 years</td>\n",
       "      <td>16.0</td>\n",
       "      <td>True</td>\n",
       "    </tr>\n",
       "    <tr>\n",
       "      <th>12</th>\n",
       "      <td>776188.0</td>\n",
       "      <td>740.0</td>\n",
       "      <td>134083.0</td>\n",
       "      <td>99999999.0</td>\n",
       "      <td>Own Home</td>\n",
       "      <td>Fully Paid</td>\n",
       "      <td>25.0</td>\n",
       "      <td>0.0</td>\n",
       "      <td>Short Term</td>\n",
       "      <td>&lt; 1 year</td>\n",
       "      <td>8.5</td>\n",
       "      <td>True</td>\n",
       "    </tr>\n",
       "  </tbody>\n",
       "</table>\n",
       "</div>"
      ],
      "text/plain": [
       "    Annual Income  Credit Score  Current Credit Balance  Current Loan Amount  \\\n",
       "2       2231892.0         741.0                297996.0           99999999.0   \n",
       "6       1184194.0         730.0                122170.0             217646.0   \n",
       "8       2559110.0         678.0                437171.0             548746.0   \n",
       "10       714628.0         728.0                203965.0           99999999.0   \n",
       "12       776188.0         740.0                134083.0           99999999.0   \n",
       "\n",
       "   Home Ownership Loan Status  Months since last delinquent  \\\n",
       "2        Own Home  Fully Paid                          29.0   \n",
       "6   Home Mortgage  Fully Paid                          10.0   \n",
       "8            Rent  Fully Paid                          33.0   \n",
       "10           Rent  Fully Paid                          76.0   \n",
       "12       Own Home  Fully Paid                          25.0   \n",
       "\n",
       "    Number of Credit Problems        Term Years in current job  \\\n",
       "2                         1.0  Short Term              8 years   \n",
       "6                         1.0  Short Term             < 1 year   \n",
       "8                         0.0  Short Term              2 years   \n",
       "10                        0.0  Short Term              3 years   \n",
       "12                        0.0  Short Term             < 1 year   \n",
       "\n",
       "    Years of Credit History  Accept  \n",
       "2                      14.9    True  \n",
       "6                      19.6    True  \n",
       "8                      22.6   False  \n",
       "10                     16.0    True  \n",
       "12                      8.5    True  "
      ]
     },
     "execution_count": 229,
     "metadata": {},
     "output_type": "execute_result"
    }
   ],
   "source": [
    "ACCEPT = 1\n",
    "DENY = 0\n",
    "CUTOFF = df['Credit Score'].median()\n",
    "\n",
    "\n",
    "# Adding a column for y\n",
    "df['Accept'] = df['Credit Score'] > CUTOFF\n",
    "df.head()"
   ]
  },
  {
   "cell_type": "code",
   "execution_count": 230,
   "metadata": {
    "scrolled": true
   },
   "outputs": [],
   "source": [
    "y, X = df['Accept'], df.drop(['Accept', 'Credit Score'], axis=1)"
   ]
  },
  {
   "cell_type": "code",
   "execution_count": 231,
   "metadata": {},
   "outputs": [],
   "source": [
    "y = pd.Series(y.loc[:].fillna('').values.astype('str').tolist()).str.join('')\n",
    "X = pd.Series(X.loc[:].fillna('').values.astype('str').tolist()).str.join('')"
   ]
  },
  {
   "cell_type": "code",
   "execution_count": 232,
   "metadata": {},
   "outputs": [],
   "source": [
    "X_train, X_test, y_train, y_test = train_test_split(X, y, test_size=0.2)"
   ]
  },
  {
   "cell_type": "code",
   "execution_count": 234,
   "metadata": {},
   "outputs": [
    {
     "data": {
      "text/plain": [
       "36286    1279745.098648.0437910.0Home MortgageFully Pai...\n",
       "11838    1745226.0304931.0359260.0Own HomeFully Paid23....\n",
       "16774    869288.0159467.0214720.0RentFully Paid59.00.0S...\n",
       "35992    1090372.0130093.099999999.0Own HomeFully Paid4...\n",
       "31049    1772700.0602015.0194458.0Home MortgageFully Pa...\n",
       "dtype: object"
      ]
     },
     "execution_count": 234,
     "metadata": {},
     "output_type": "execute_result"
    }
   ],
   "source": [
    "X_train.head()"
   ]
  },
  {
   "cell_type": "markdown",
   "metadata": {},
   "source": [
    "# Modeling"
   ]
  },
  {
   "cell_type": "code",
   "execution_count": 237,
   "metadata": {},
   "outputs": [],
   "source": [
    "# Vectorize\n",
    "cvec = CountVectorizer()\n",
    "cvec.fit(X_train)\n",
    "X_train_vec = cvec.transform(X_train)\n",
    "X_test_vec = cvec.transform(X_test)"
   ]
  },
  {
   "cell_type": "code",
   "execution_count": 238,
   "metadata": {},
   "outputs": [
    {
     "data": {
      "text/plain": [
       "<29268x47393 sparse matrix of type '<class 'numpy.int64'>'\n",
       "\twith 280910 stored elements in Compressed Sparse Row format>"
      ]
     },
     "execution_count": 238,
     "metadata": {},
     "output_type": "execute_result"
    }
   ],
   "source": [
    "X_train_vec"
   ]
  },
  {
   "cell_type": "code",
   "execution_count": 242,
   "metadata": {},
   "outputs": [],
   "source": [
    "# Modeling\n",
    "def simpleNN():\n",
    "    model = Sequential()\n",
    "    model.add(Dense(100, input_dim=input_dim, activation='relu', use_bias=True))\n",
    "    model.add(Dropout(rate=0.6))\n",
    "    model.add(Dense(output_dim, activation='hard_sigmoid'))\n",
    "    model.compile(loss='binary_crossentropy',\n",
    "                  optimizer='rmsprop',\n",
    "                  metrics=['accuracy'])\n",
    "    return model"
   ]
  },
  {
   "cell_type": "code",
   "execution_count": 245,
   "metadata": {},
   "outputs": [
    {
     "name": "stdout",
     "output_type": "stream",
     "text": [
      "Epoch 1/5\n",
      "23413/23413 [==============================] - 44s 2ms/step - loss: 0.6406 - acc: 0.6435\n",
      "Epoch 2/5\n",
      "23413/23413 [==============================] - 42s 2ms/step - loss: 0.5932 - acc: 0.6872\n",
      "Epoch 3/5\n",
      "23413/23413 [==============================] - 42s 2ms/step - loss: 0.5603 - acc: 0.7252\n",
      "Epoch 4/5\n",
      "23413/23413 [==============================] - 41s 2ms/step - loss: 0.5198 - acc: 0.7619\n",
      "Epoch 5/5\n",
      "23413/23413 [==============================] - 42s 2ms/step - loss: 0.4672 - acc: 0.7992\n",
      "5855/5855 [==============================] - 5s 930us/step\n",
      "Epoch 1/5\n",
      "23414/23414 [==============================] - 43s 2ms/step - loss: 0.6414 - acc: 0.6437\n",
      "Epoch 2/5\n",
      "23414/23414 [==============================] - 41s 2ms/step - loss: 0.5928 - acc: 0.6878\n",
      "Epoch 3/5\n",
      "23414/23414 [==============================] - 39s 2ms/step - loss: 0.5613 - acc: 0.7267\n",
      "Epoch 4/5\n",
      "23414/23414 [==============================] - 40s 2ms/step - loss: 0.5216 - acc: 0.7643\n",
      "Epoch 5/5\n",
      "23414/23414 [==============================] - 40s 2ms/step - loss: 0.4727 - acc: 0.7985\n",
      "5854/5854 [==============================] - 6s 957us/step\n",
      "Epoch 1/5\n",
      "23415/23415 [==============================] - 42s 2ms/step - loss: 0.6437 - acc: 0.6381\n",
      "Epoch 2/5\n",
      "23415/23415 [==============================] - 41s 2ms/step - loss: 0.5945 - acc: 0.6885\n",
      "Epoch 3/5\n",
      "23415/23415 [==============================] - 40s 2ms/step - loss: 0.5588 - acc: 0.7259\n",
      "Epoch 4/5\n",
      "23415/23415 [==============================] - 41s 2ms/step - loss: 0.5237 - acc: 0.7616\n",
      "Epoch 5/5\n",
      "23415/23415 [==============================] - 43s 2ms/step - loss: 0.4758 - acc: 0.7989\n",
      "5853/5853 [==============================] - 6s 1ms/step\n",
      "Epoch 1/5\n",
      "23415/23415 [==============================] - 42s 2ms/step - loss: 0.6414 - acc: 0.6428\n",
      "Epoch 2/5\n",
      "23415/23415 [==============================] - 40s 2ms/step - loss: 0.5953 - acc: 0.6873\n",
      "Epoch 3/5\n",
      "23415/23415 [==============================] - 41s 2ms/step - loss: 0.5602 - acc: 0.7292\n",
      "Epoch 4/5\n",
      "23415/23415 [==============================] - 39s 2ms/step - loss: 0.5216 - acc: 0.7663\n",
      "Epoch 5/5\n",
      "23415/23415 [==============================] - 39s 2ms/step - loss: 0.4759 - acc: 0.8006\n",
      "5853/5853 [==============================] - 5s 887us/step\n",
      "Epoch 1/5\n",
      "23415/23415 [==============================] - 42s 2ms/step - loss: 0.6433 - acc: 0.6416\n",
      "Epoch 2/5\n",
      "23415/23415 [==============================] - 40s 2ms/step - loss: 0.5984 - acc: 0.6846\n",
      "Epoch 3/5\n",
      "23415/23415 [==============================] - 39s 2ms/step - loss: 0.5643 - acc: 0.7237\n",
      "Epoch 4/5\n",
      "23415/23415 [==============================] - 40s 2ms/step - loss: 0.5226 - acc: 0.7644\n",
      "Epoch 5/5\n",
      "23415/23415 [==============================] - 39s 2ms/step - loss: 0.4732 - acc: 0.7986\n",
      "5853/5853 [==============================] - 5s 939us/step\n",
      "K-fold Validation Results: 68.64% (0.58%)\n"
     ]
    }
   ],
   "source": [
    "input_dim = X_train_vec.shape[1]\n",
    "output_dim = 1\n",
    "model = simpleNN()\n",
    "\n",
    "seed = 7\n",
    "np.random.seed(seed)\n",
    "estimator = KerasClassifier(build_fn=simpleNN,\n",
    "                            epochs=5,\n",
    "                            batch_size=256,\n",
    "                            verbose=1)\n",
    "kfold = StratifiedKFold(n_splits=5, shuffle=True, random_state=seed)\n",
    "results = cross_val_score(estimator, X_train_vec, y_train, cv=kfold)\n",
    "print('K-fold Validation Results: %.2f%% (%.2f%%)' % (results.mean()*100, results.std()*100))"
   ]
  },
  {
   "cell_type": "code",
   "execution_count": null,
   "metadata": {},
   "outputs": [],
   "source": []
  }
 ],
 "metadata": {
  "kernelspec": {
   "display_name": "Python 3",
   "language": "python",
   "name": "python3"
  },
  "language_info": {
   "codemirror_mode": {
    "name": "ipython",
    "version": 3
   },
   "file_extension": ".py",
   "mimetype": "text/x-python",
   "name": "python",
   "nbconvert_exporter": "python",
   "pygments_lexer": "ipython3",
   "version": "3.6.7"
  }
 },
 "nbformat": 4,
 "nbformat_minor": 2
}
